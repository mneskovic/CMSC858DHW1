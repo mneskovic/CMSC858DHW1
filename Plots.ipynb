{
 "cells": [
  {
   "cell_type": "code",
   "execution_count": 8,
   "id": "502e3db4",
   "metadata": {},
   "outputs": [],
   "source": [
    "import pandas as pd\n",
    "import matplotlib.pyplot as plt"
   ]
  },
  {
   "cell_type": "code",
   "execution_count": 9,
   "id": "e089d538",
   "metadata": {},
   "outputs": [
    {
     "data": {
      "text/html": [
       "<div>\n",
       "<style scoped>\n",
       "    .dataframe tbody tr th:only-of-type {\n",
       "        vertical-align: middle;\n",
       "    }\n",
       "\n",
       "    .dataframe tbody tr th {\n",
       "        vertical-align: top;\n",
       "    }\n",
       "\n",
       "    .dataframe thead th {\n",
       "        text-align: right;\n",
       "    }\n",
       "</style>\n",
       "<table border=\"1\" class=\"dataframe\">\n",
       "  <thead>\n",
       "    <tr style=\"text-align: right;\">\n",
       "      <th></th>\n",
       "      <th>N</th>\n",
       "      <th>Overhead</th>\n",
       "      <th>Time</th>\n",
       "      <th>O(N)</th>\n",
       "    </tr>\n",
       "  </thead>\n",
       "  <tbody>\n",
       "    <tr>\n",
       "      <th>0</th>\n",
       "      <td>16</td>\n",
       "      <td>96</td>\n",
       "      <td>125</td>\n",
       "      <td>16</td>\n",
       "    </tr>\n",
       "    <tr>\n",
       "      <th>1</th>\n",
       "      <td>64</td>\n",
       "      <td>256</td>\n",
       "      <td>42</td>\n",
       "      <td>64</td>\n",
       "    </tr>\n",
       "    <tr>\n",
       "      <th>2</th>\n",
       "      <td>256</td>\n",
       "      <td>640</td>\n",
       "      <td>42</td>\n",
       "      <td>256</td>\n",
       "    </tr>\n",
       "    <tr>\n",
       "      <th>3</th>\n",
       "      <td>1024</td>\n",
       "      <td>2112</td>\n",
       "      <td>83</td>\n",
       "      <td>1024</td>\n",
       "    </tr>\n",
       "    <tr>\n",
       "      <th>4</th>\n",
       "      <td>4096</td>\n",
       "      <td>6496</td>\n",
       "      <td>42</td>\n",
       "      <td>4096</td>\n",
       "    </tr>\n",
       "    <tr>\n",
       "      <th>5</th>\n",
       "      <td>16384</td>\n",
       "      <td>21504</td>\n",
       "      <td>84</td>\n",
       "      <td>16384</td>\n",
       "    </tr>\n",
       "    <tr>\n",
       "      <th>6</th>\n",
       "      <td>65536</td>\n",
       "      <td>73728</td>\n",
       "      <td>42</td>\n",
       "      <td>65536</td>\n",
       "    </tr>\n",
       "    <tr>\n",
       "      <th>7</th>\n",
       "      <td>262144</td>\n",
       "      <td>259200</td>\n",
       "      <td>42</td>\n",
       "      <td>262144</td>\n",
       "    </tr>\n",
       "    <tr>\n",
       "      <th>8</th>\n",
       "      <td>1048576</td>\n",
       "      <td>922944</td>\n",
       "      <td>125</td>\n",
       "      <td>1048576</td>\n",
       "    </tr>\n",
       "    <tr>\n",
       "      <th>9</th>\n",
       "      <td>4194304</td>\n",
       "      <td>3327744</td>\n",
       "      <td>41</td>\n",
       "      <td>4194304</td>\n",
       "    </tr>\n",
       "    <tr>\n",
       "      <th>10</th>\n",
       "      <td>16777216</td>\n",
       "      <td>12117248</td>\n",
       "      <td>41</td>\n",
       "      <td>16777216</td>\n",
       "    </tr>\n",
       "    <tr>\n",
       "      <th>11</th>\n",
       "      <td>67108864</td>\n",
       "      <td>44474752</td>\n",
       "      <td>42</td>\n",
       "      <td>67108864</td>\n",
       "    </tr>\n",
       "  </tbody>\n",
       "</table>\n",
       "</div>"
      ],
      "text/plain": [
       "           N  Overhead  Time      O(N)\n",
       "0         16        96   125        16\n",
       "1         64       256    42        64\n",
       "2        256       640    42       256\n",
       "3       1024      2112    83      1024\n",
       "4       4096      6496    42      4096\n",
       "5      16384     21504    84     16384\n",
       "6      65536     73728    42     65536\n",
       "7     262144    259200    42    262144\n",
       "8    1048576    922944   125   1048576\n",
       "9    4194304   3327744    41   4194304\n",
       "10  16777216  12117248    41  16777216\n",
       "11  67108864  44474752    42  67108864"
      ]
     },
     "execution_count": 9,
     "metadata": {},
     "output_type": "execute_result"
    }
   ],
   "source": [
    "df = pd.read_csv(\"rank_test.txt\")\n",
    "df['O(N)'] = df['N']\n",
    "df"
   ]
  },
  {
   "cell_type": "code",
   "execution_count": 10,
   "id": "413a006c",
   "metadata": {},
   "outputs": [
    {
     "data": {
      "image/png": "[encoded data removed]",
      "text/plain": [
       "<Figure size 432x288 with 1 Axes>"
      ]
     },
     "metadata": {
      "needs_background": "light"
     },
     "output_type": "display_data"
    },
    {
     "data": {
      "image/png": "[encoded data removed]",
      "text/plain": [
       "<Figure size 432x288 with 1 Axes>"
      ]
     },
     "metadata": {
      "needs_background": "light"
     },
     "output_type": "display_data"
    }
   ],
   "source": [
    "df.plot(kind='line',x='N',y='Time')\n",
    "plt.title(\"Runtime vs. Size of Bit Vector (N)\")\n",
    "plt.show()\n",
    "\n",
    "df.plot(kind='line',x='N',y=['Overhead', 'O(N)'])\n",
    "plt.title(\"Overhead in Bits vs. Size of Bit Vector (N)\")\n",
    "plt.show()"
   ]
  },
  {
   "cell_type": "code",
   "execution_count": 21,
   "id": "1198b3ee",
   "metadata": {},
   "outputs": [
    {
     "data": {
      "text/html": [
       "<div>\n",
       "<style scoped>\n",
       "    .dataframe tbody tr th:only-of-type {\n",
       "        vertical-align: middle;\n",
       "    }\n",
       "\n",
       "    .dataframe tbody tr th {\n",
       "        vertical-align: top;\n",
       "    }\n",
       "\n",
       "    .dataframe thead th {\n",
       "        text-align: right;\n",
       "    }\n",
       "</style>\n",
       "<table border=\"1\" class=\"dataframe\">\n",
       "  <thead>\n",
       "    <tr style=\"text-align: right;\">\n",
       "      <th></th>\n",
       "      <th>N</th>\n",
       "      <th>Overhead</th>\n",
       "      <th>Time</th>\n",
       "      <th>O(logn)</th>\n",
       "      <th>O(N)</th>\n",
       "    </tr>\n",
       "  </thead>\n",
       "  <tbody>\n",
       "    <tr>\n",
       "      <th>0</th>\n",
       "      <td>16</td>\n",
       "      <td>96</td>\n",
       "      <td>291</td>\n",
       "      <td>400</td>\n",
       "      <td>16</td>\n",
       "    </tr>\n",
       "    <tr>\n",
       "      <th>1</th>\n",
       "      <td>64</td>\n",
       "      <td>256</td>\n",
       "      <td>458</td>\n",
       "      <td>600</td>\n",
       "      <td>64</td>\n",
       "    </tr>\n",
       "    <tr>\n",
       "      <th>2</th>\n",
       "      <td>256</td>\n",
       "      <td>640</td>\n",
       "      <td>458</td>\n",
       "      <td>800</td>\n",
       "      <td>256</td>\n",
       "    </tr>\n",
       "    <tr>\n",
       "      <th>3</th>\n",
       "      <td>1024</td>\n",
       "      <td>2112</td>\n",
       "      <td>875</td>\n",
       "      <td>1000</td>\n",
       "      <td>1024</td>\n",
       "    </tr>\n",
       "    <tr>\n",
       "      <th>4</th>\n",
       "      <td>4096</td>\n",
       "      <td>6496</td>\n",
       "      <td>875</td>\n",
       "      <td>1200</td>\n",
       "      <td>4096</td>\n",
       "    </tr>\n",
       "    <tr>\n",
       "      <th>5</th>\n",
       "      <td>16384</td>\n",
       "      <td>21504</td>\n",
       "      <td>1041</td>\n",
       "      <td>1400</td>\n",
       "      <td>16384</td>\n",
       "    </tr>\n",
       "    <tr>\n",
       "      <th>6</th>\n",
       "      <td>65536</td>\n",
       "      <td>73728</td>\n",
       "      <td>500</td>\n",
       "      <td>1600</td>\n",
       "      <td>65536</td>\n",
       "    </tr>\n",
       "    <tr>\n",
       "      <th>7</th>\n",
       "      <td>262144</td>\n",
       "      <td>259200</td>\n",
       "      <td>1500</td>\n",
       "      <td>1800</td>\n",
       "      <td>262144</td>\n",
       "    </tr>\n",
       "    <tr>\n",
       "      <th>8</th>\n",
       "      <td>1048576</td>\n",
       "      <td>922944</td>\n",
       "      <td>1459</td>\n",
       "      <td>2000</td>\n",
       "      <td>1048576</td>\n",
       "    </tr>\n",
       "    <tr>\n",
       "      <th>9</th>\n",
       "      <td>4194304</td>\n",
       "      <td>3327744</td>\n",
       "      <td>2292</td>\n",
       "      <td>2200</td>\n",
       "      <td>4194304</td>\n",
       "    </tr>\n",
       "    <tr>\n",
       "      <th>10</th>\n",
       "      <td>16777216</td>\n",
       "      <td>12117248</td>\n",
       "      <td>1833</td>\n",
       "      <td>2400</td>\n",
       "      <td>16777216</td>\n",
       "    </tr>\n",
       "    <tr>\n",
       "      <th>11</th>\n",
       "      <td>67108864</td>\n",
       "      <td>44474752</td>\n",
       "      <td>3958</td>\n",
       "      <td>2600</td>\n",
       "      <td>67108864</td>\n",
       "    </tr>\n",
       "  </tbody>\n",
       "</table>\n",
       "</div>"
      ],
      "text/plain": [
       "           N  Overhead  Time  O(logn)      O(N)\n",
       "0         16        96   291      400        16\n",
       "1         64       256   458      600        64\n",
       "2        256       640   458      800       256\n",
       "3       1024      2112   875     1000      1024\n",
       "4       4096      6496   875     1200      4096\n",
       "5      16384     21504  1041     1400     16384\n",
       "6      65536     73728   500     1600     65536\n",
       "7     262144    259200  1500     1800    262144\n",
       "8    1048576    922944  1459     2000   1048576\n",
       "9    4194304   3327744  2292     2200   4194304\n",
       "10  16777216  12117248  1833     2400  16777216\n",
       "11  67108864  44474752  3958     2600  67108864"
      ]
     },
     "execution_count": 21,
     "metadata": {},
     "output_type": "execute_result"
    }
   ],
   "source": [
    "df1 = pd.read_csv(\"select_test.txt\")\n",
    "df1['O(N)'] = df1['N']\n",
    "df1"
   ]
  },
  {
   "cell_type": "code",
   "execution_count": 22,
   "id": "e1cd4213",
   "metadata": {},
   "outputs": [
    {
     "data": {
      "image/png": "[encoded data removed]",
      "text/plain": [
       "<Figure size 432x288 with 1 Axes>"
      ]
     },
     "metadata": {
      "needs_background": "light"
     },
     "output_type": "display_data"
    },
    {
     "data": {
      "image/png": "[encoded data removed]",
      "text/plain": [
       "<Figure size 432x288 with 1 Axes>"
      ]
     },
     "metadata": {
      "needs_background": "light"
     },
     "output_type": "display_data"
    }
   ],
   "source": [
    "df1.plot(kind='line',x='N',y=['Time', 'O(logn)'])\n",
    "plt.title(\"Runtime vs. Size of Bit Vector (N)\")\n",
    "plt.show()\n",
    "\n",
    "df1.plot(kind='line',x='N',y=['Overhead', 'O(N)'])\n",
    "plt.title(\"Overhead vs. Size of Bit Vector (N)\")\n",
    "plt.show()"
   ]
  },
  {
   "cell_type": "code",
   "execution_count": 44,
   "id": "75c71fa7",
   "metadata": {},
   "outputs": [
    {
     "data": {
      "text/html": [
       "<div>\n",
       "<style scoped>\n",
       "    .dataframe tbody tr th:only-of-type {\n",
       "        vertical-align: middle;\n",
       "    }\n",
       "\n",
       "    .dataframe tbody tr th {\n",
       "        vertical-align: top;\n",
       "    }\n",
       "\n",
       "    .dataframe thead th {\n",
       "        text-align: right;\n",
       "    }\n",
       "</style>\n",
       "<table border=\"1\" class=\"dataframe\">\n",
       "  <thead>\n",
       "    <tr style=\"text-align: right;\">\n",
       "      <th></th>\n",
       "      <th>N</th>\n",
       "      <th>Sparsity</th>\n",
       "      <th>Time</th>\n",
       "      <th>Overhead</th>\n",
       "    </tr>\n",
       "  </thead>\n",
       "  <tbody>\n",
       "    <tr>\n",
       "      <th>0</th>\n",
       "      <td>100</td>\n",
       "      <td>2</td>\n",
       "      <td>83</td>\n",
       "      <td>192</td>\n",
       "    </tr>\n",
       "    <tr>\n",
       "      <th>1</th>\n",
       "      <td>100</td>\n",
       "      <td>7</td>\n",
       "      <td>41</td>\n",
       "      <td>1344</td>\n",
       "    </tr>\n",
       "    <tr>\n",
       "      <th>2</th>\n",
       "      <td>100</td>\n",
       "      <td>12</td>\n",
       "      <td>42</td>\n",
       "      <td>2304</td>\n",
       "    </tr>\n",
       "    <tr>\n",
       "      <th>3</th>\n",
       "      <td>1000</td>\n",
       "      <td>2</td>\n",
       "      <td>83</td>\n",
       "      <td>1920</td>\n",
       "    </tr>\n",
       "    <tr>\n",
       "      <th>4</th>\n",
       "      <td>1000</td>\n",
       "      <td>7</td>\n",
       "      <td>83</td>\n",
       "      <td>12096</td>\n",
       "    </tr>\n",
       "    <tr>\n",
       "      <th>5</th>\n",
       "      <td>1000</td>\n",
       "      <td>12</td>\n",
       "      <td>83</td>\n",
       "      <td>21504</td>\n",
       "    </tr>\n",
       "    <tr>\n",
       "      <th>6</th>\n",
       "      <td>10000</td>\n",
       "      <td>2</td>\n",
       "      <td>41</td>\n",
       "      <td>19200</td>\n",
       "    </tr>\n",
       "    <tr>\n",
       "      <th>7</th>\n",
       "      <td>10000</td>\n",
       "      <td>7</td>\n",
       "      <td>42</td>\n",
       "      <td>120000</td>\n",
       "    </tr>\n",
       "    <tr>\n",
       "      <th>8</th>\n",
       "      <td>10000</td>\n",
       "      <td>12</td>\n",
       "      <td>42</td>\n",
       "      <td>213504</td>\n",
       "    </tr>\n",
       "    <tr>\n",
       "      <th>9</th>\n",
       "      <td>100000</td>\n",
       "      <td>2</td>\n",
       "      <td>41</td>\n",
       "      <td>192000</td>\n",
       "    </tr>\n",
       "    <tr>\n",
       "      <th>10</th>\n",
       "      <td>100000</td>\n",
       "      <td>7</td>\n",
       "      <td>42</td>\n",
       "      <td>1200000</td>\n",
       "    </tr>\n",
       "    <tr>\n",
       "      <th>11</th>\n",
       "      <td>100000</td>\n",
       "      <td>12</td>\n",
       "      <td>83</td>\n",
       "      <td>2133504</td>\n",
       "    </tr>\n",
       "    <tr>\n",
       "      <th>12</th>\n",
       "      <td>1000000</td>\n",
       "      <td>2</td>\n",
       "      <td>292</td>\n",
       "      <td>1920000</td>\n",
       "    </tr>\n",
       "    <tr>\n",
       "      <th>13</th>\n",
       "      <td>1000000</td>\n",
       "      <td>7</td>\n",
       "      <td>2750</td>\n",
       "      <td>12000000</td>\n",
       "    </tr>\n",
       "    <tr>\n",
       "      <th>14</th>\n",
       "      <td>1000000</td>\n",
       "      <td>12</td>\n",
       "      <td>1792</td>\n",
       "      <td>21333504</td>\n",
       "    </tr>\n",
       "  </tbody>\n",
       "</table>\n",
       "</div>"
      ],
      "text/plain": [
       "          N  Sparsity  Time  Overhead\n",
       "0       100         2    83       192\n",
       "1       100         7    41      1344\n",
       "2       100        12    42      2304\n",
       "3      1000         2    83      1920\n",
       "4      1000         7    83     12096\n",
       "5      1000        12    83     21504\n",
       "6     10000         2    41     19200\n",
       "7     10000         7    42    120000\n",
       "8     10000        12    42    213504\n",
       "9    100000         2    41    192000\n",
       "10   100000         7    42   1200000\n",
       "11   100000        12    83   2133504\n",
       "12  1000000         2   292   1920000\n",
       "13  1000000         7  2750  12000000\n",
       "14  1000000        12  1792  21333504"
      ]
     },
     "execution_count": 44,
     "metadata": {},
     "output_type": "execute_result"
    }
   ],
   "source": [
    "df2 = pd.read_csv(\"sparse_test.txt\")\n",
    "df2"
   ]
  },
  {
   "cell_type": "code",
   "execution_count": 45,
   "id": "c611056f",
   "metadata": {},
   "outputs": [
    {
     "data": {
      "text/plain": [
       "Text(0.5, 1.0, 'Runtime vs. Size of Bit Vector (N) Grouped by Sparsity (%)')"
      ]
     },
     "execution_count": 45,
     "metadata": {},
     "output_type": "execute_result"
    },
    {
     "data": {
      "image/png": "[encoded data removed]",
      "text/plain": [
       "<Figure size 432x288 with 1 Axes>"
      ]
     },
     "metadata": {
      "needs_background": "light"
     },
     "output_type": "display_data"
    }
   ],
   "source": [
    "#define index column\n",
    "df2.set_index('N', inplace=True)\n",
    "\n",
    "#group data by product and display sales as line chart\n",
    "df2.groupby('Sparsity')['Time'].plot(legend=True)\n",
    "plt.title(\"Runtime vs. Size of Bit Vector (N) Grouped by Sparsity (%)\")"
   ]
  },
  {
   "cell_type": "code",
   "execution_count": 46,
   "id": "932e356d",
   "metadata": {},
   "outputs": [
    {
     "data": {
      "text/plain": [
       "Text(0.5, 1.0, 'Runtime vs. Overhead of Empty Strings')"
      ]
     },
     "execution_count": 46,
     "metadata": {},
     "output_type": "execute_result"
    },
    {
     "data": {
      "image/png": "[encoded data removed]",
      "text/plain": [
       "<Figure size 432x288 with 1 Axes>"
      ]
     },
     "metadata": {
      "needs_background": "light"
     },
     "output_type": "display_data"
    }
   ],
   "source": [
    "#group data by product and display sales as line chart\n",
    "df2.groupby('Sparsity')['Overhead'].plot(legend=True)\n",
    "plt.title(\"Runtime vs. Overhead of Empty Strings\")"
   ]
  },
  {
   "cell_type": "code",
   "execution_count": null,
   "id": "e2ed0737",
   "metadata": {},
   "outputs": [],
   "source": []
  }
 ],
 "metadata": {
  "kernelspec": {
   "display_name": "base",
   "language": "python",
   "name": "base"
  },
  "language_info": {
   "codemirror_mode": {
    "name": "ipython",
    "version": 3
   },
   "file_extension": ".py",
   "mimetype": "text/x-python",
   "name": "python",
   "nbconvert_exporter": "python",
   "pygments_lexer": "ipython3",
   "version": "3.8.11"
  }
 },
 "nbformat": 4,
 "nbformat_minor": 5
}
